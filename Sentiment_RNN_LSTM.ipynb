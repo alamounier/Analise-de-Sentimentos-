{
 "cells": [
  {
   "cell_type": "markdown",
   "metadata": {
    "id": "_nBDEHqtXxN6"
   },
   "source": [
    "# Sentiment Analysis with an RNN\n",
    "\n",
    "será implementado uma rede neural recorrente cujo objetivo é realizar uma análise de sentimento.\n",
    "Base de dados: Será usado um conjunto de dados de resenhas de filmes, acompanhados de seus rótulos (se positivo ou negativo)\n",
    "\n",
    "As palavras serão passadas por uma camada de incorporação. Há dezenas de milhares de palavras, portanto, deve haver uma representação mais eficiente para os dados de entrada do que vetores codificados por one-hot. O uso dessa representação do espaço vetorial nos permitirá ter uma representação distribuída e contínua de nossas palavras do vocabulário.\n",
    "\n",
    "Da camada de incorporação as novas representações, agora vetoriais,  serão passadas para as células LSTM. Elas adicionarão conexões recorrentes à rede para que possamos incluir informações sobre a sequência de palavras nos dados. Finalmente, as células LSTM irão para uma camada de saída com uma função de ativação sigmoide. Será usado sigmoide porque precisa-se prever se o texto tem sentimento positivo ou negativo. A camada de saída será de apenas uma única unidade.\n",
    "\n",
    "Nos importaremos apenas com ultima saída sigmoide. Calcularemos o custo a partir da saída da última etapa e do rótulo de treinamento."
   ]
  },
  {
   "cell_type": "markdown",
   "metadata": {},
   "source": [
    "#### Análise exploratória dos dados:"
   ]
  },
  {
   "cell_type": "code",
   "execution_count": 1,
   "metadata": {},
   "outputs": [
    {
     "name": "stdout",
     "output_type": "stream",
     "text": [
      "2.5.0-dev20210204\n"
     ]
    }
   ],
   "source": [
    "import pandas as pd\n",
    "import numpy as np\n",
    "import matplotlib.pyplot as plt\n",
    "import tensorflow as tf\n",
    "print(tf.__version__)"
   ]
  },
  {
   "cell_type": "code",
   "execution_count": 2,
   "metadata": {
    "id": "OproxwZLXxOH"
   },
   "outputs": [],
   "source": [
    "with open('reviews.txt', 'r') as f:\n",
    "    reviews = f.read()\n",
    "with open('labels.txt', 'r') as f:\n",
    "    labels = f.read()"
   ]
  },
  {
   "cell_type": "markdown",
   "metadata": {},
   "source": [
    "### Remoção Stopwords \n",
    "#### - Compilar essa célula caso queira a remoção de stop words, caso não, vá para célula C/Stopwords"
   ]
  },
  {
   "cell_type": "code",
   "execution_count": 4,
   "metadata": {},
   "outputs": [],
   "source": [
    "from string import punctuation\n",
    "from nltk.corpus import stopwords\n",
    "\n",
    "linha = reviews.split('\\n')\n",
    "stop_words = set(stopwords.words('english') + list(punctuation))\n",
    "sentences=[]\n",
    "\n",
    "for c in linha:\n",
    "    split_words = c.split()\n",
    "    clean_text = ' '.join([i for i in split_words if i not in stop_words])\n",
    "    sentences.append(clean_text)"
   ]
  },
  {
   "cell_type": "markdown",
   "metadata": {},
   "source": [
    "## BOW - Arvore Decisão e Floresta Randômica\n",
    "\n",
    "#### Abaixo, o pré-processamento para os algoritmos AD e FD. Técnica utilizada: BOW"
   ]
  },
  {
   "cell_type": "code",
   "execution_count": 94,
   "metadata": {},
   "outputs": [
    {
     "data": {
      "text/html": [
       "<div>\n",
       "<style scoped>\n",
       "    .dataframe tbody tr th:only-of-type {\n",
       "        vertical-align: middle;\n",
       "    }\n",
       "\n",
       "    .dataframe tbody tr th {\n",
       "        vertical-align: top;\n",
       "    }\n",
       "\n",
       "    .dataframe thead th {\n",
       "        text-align: right;\n",
       "    }\n",
       "</style>\n",
       "<table border=\"1\" class=\"dataframe\">\n",
       "  <thead>\n",
       "    <tr style=\"text-align: right;\">\n",
       "      <th></th>\n",
       "      <th>0</th>\n",
       "      <th>1</th>\n",
       "      <th>2</th>\n",
       "      <th>3</th>\n",
       "      <th>4</th>\n",
       "      <th>5</th>\n",
       "      <th>6</th>\n",
       "      <th>7</th>\n",
       "      <th>8</th>\n",
       "      <th>9</th>\n",
       "      <th>...</th>\n",
       "      <th>990</th>\n",
       "      <th>991</th>\n",
       "      <th>992</th>\n",
       "      <th>993</th>\n",
       "      <th>994</th>\n",
       "      <th>995</th>\n",
       "      <th>996</th>\n",
       "      <th>997</th>\n",
       "      <th>998</th>\n",
       "      <th>999</th>\n",
       "    </tr>\n",
       "  </thead>\n",
       "  <tbody>\n",
       "    <tr>\n",
       "      <th>0</th>\n",
       "      <td>0</td>\n",
       "      <td>0</td>\n",
       "      <td>0</td>\n",
       "      <td>0</td>\n",
       "      <td>0</td>\n",
       "      <td>0</td>\n",
       "      <td>0</td>\n",
       "      <td>0</td>\n",
       "      <td>0</td>\n",
       "      <td>0</td>\n",
       "      <td>...</td>\n",
       "      <td>0</td>\n",
       "      <td>0</td>\n",
       "      <td>0</td>\n",
       "      <td>1</td>\n",
       "      <td>0</td>\n",
       "      <td>0</td>\n",
       "      <td>0</td>\n",
       "      <td>0</td>\n",
       "      <td>0</td>\n",
       "      <td>0</td>\n",
       "    </tr>\n",
       "    <tr>\n",
       "      <th>1</th>\n",
       "      <td>0</td>\n",
       "      <td>0</td>\n",
       "      <td>0</td>\n",
       "      <td>0</td>\n",
       "      <td>0</td>\n",
       "      <td>0</td>\n",
       "      <td>0</td>\n",
       "      <td>0</td>\n",
       "      <td>0</td>\n",
       "      <td>0</td>\n",
       "      <td>...</td>\n",
       "      <td>0</td>\n",
       "      <td>0</td>\n",
       "      <td>0</td>\n",
       "      <td>0</td>\n",
       "      <td>0</td>\n",
       "      <td>0</td>\n",
       "      <td>0</td>\n",
       "      <td>0</td>\n",
       "      <td>0</td>\n",
       "      <td>0</td>\n",
       "    </tr>\n",
       "    <tr>\n",
       "      <th>2</th>\n",
       "      <td>0</td>\n",
       "      <td>0</td>\n",
       "      <td>0</td>\n",
       "      <td>0</td>\n",
       "      <td>0</td>\n",
       "      <td>0</td>\n",
       "      <td>0</td>\n",
       "      <td>0</td>\n",
       "      <td>0</td>\n",
       "      <td>0</td>\n",
       "      <td>...</td>\n",
       "      <td>0</td>\n",
       "      <td>0</td>\n",
       "      <td>0</td>\n",
       "      <td>1</td>\n",
       "      <td>0</td>\n",
       "      <td>0</td>\n",
       "      <td>1</td>\n",
       "      <td>0</td>\n",
       "      <td>0</td>\n",
       "      <td>0</td>\n",
       "    </tr>\n",
       "    <tr>\n",
       "      <th>3</th>\n",
       "      <td>0</td>\n",
       "      <td>0</td>\n",
       "      <td>0</td>\n",
       "      <td>0</td>\n",
       "      <td>0</td>\n",
       "      <td>0</td>\n",
       "      <td>1</td>\n",
       "      <td>1</td>\n",
       "      <td>0</td>\n",
       "      <td>0</td>\n",
       "      <td>...</td>\n",
       "      <td>0</td>\n",
       "      <td>0</td>\n",
       "      <td>0</td>\n",
       "      <td>0</td>\n",
       "      <td>0</td>\n",
       "      <td>0</td>\n",
       "      <td>0</td>\n",
       "      <td>0</td>\n",
       "      <td>0</td>\n",
       "      <td>0</td>\n",
       "    </tr>\n",
       "    <tr>\n",
       "      <th>4</th>\n",
       "      <td>0</td>\n",
       "      <td>0</td>\n",
       "      <td>0</td>\n",
       "      <td>0</td>\n",
       "      <td>0</td>\n",
       "      <td>0</td>\n",
       "      <td>1</td>\n",
       "      <td>0</td>\n",
       "      <td>0</td>\n",
       "      <td>0</td>\n",
       "      <td>...</td>\n",
       "      <td>0</td>\n",
       "      <td>0</td>\n",
       "      <td>0</td>\n",
       "      <td>0</td>\n",
       "      <td>0</td>\n",
       "      <td>0</td>\n",
       "      <td>0</td>\n",
       "      <td>0</td>\n",
       "      <td>0</td>\n",
       "      <td>0</td>\n",
       "    </tr>\n",
       "    <tr>\n",
       "      <th>...</th>\n",
       "      <td>...</td>\n",
       "      <td>...</td>\n",
       "      <td>...</td>\n",
       "      <td>...</td>\n",
       "      <td>...</td>\n",
       "      <td>...</td>\n",
       "      <td>...</td>\n",
       "      <td>...</td>\n",
       "      <td>...</td>\n",
       "      <td>...</td>\n",
       "      <td>...</td>\n",
       "      <td>...</td>\n",
       "      <td>...</td>\n",
       "      <td>...</td>\n",
       "      <td>...</td>\n",
       "      <td>...</td>\n",
       "      <td>...</td>\n",
       "      <td>...</td>\n",
       "      <td>...</td>\n",
       "      <td>...</td>\n",
       "      <td>...</td>\n",
       "    </tr>\n",
       "    <tr>\n",
       "      <th>24995</th>\n",
       "      <td>0</td>\n",
       "      <td>0</td>\n",
       "      <td>0</td>\n",
       "      <td>0</td>\n",
       "      <td>0</td>\n",
       "      <td>0</td>\n",
       "      <td>0</td>\n",
       "      <td>0</td>\n",
       "      <td>0</td>\n",
       "      <td>1</td>\n",
       "      <td>...</td>\n",
       "      <td>0</td>\n",
       "      <td>0</td>\n",
       "      <td>0</td>\n",
       "      <td>0</td>\n",
       "      <td>1</td>\n",
       "      <td>0</td>\n",
       "      <td>0</td>\n",
       "      <td>0</td>\n",
       "      <td>0</td>\n",
       "      <td>0</td>\n",
       "    </tr>\n",
       "    <tr>\n",
       "      <th>24996</th>\n",
       "      <td>0</td>\n",
       "      <td>1</td>\n",
       "      <td>0</td>\n",
       "      <td>0</td>\n",
       "      <td>0</td>\n",
       "      <td>0</td>\n",
       "      <td>0</td>\n",
       "      <td>1</td>\n",
       "      <td>0</td>\n",
       "      <td>0</td>\n",
       "      <td>...</td>\n",
       "      <td>0</td>\n",
       "      <td>0</td>\n",
       "      <td>0</td>\n",
       "      <td>3</td>\n",
       "      <td>0</td>\n",
       "      <td>0</td>\n",
       "      <td>0</td>\n",
       "      <td>0</td>\n",
       "      <td>0</td>\n",
       "      <td>0</td>\n",
       "    </tr>\n",
       "    <tr>\n",
       "      <th>24997</th>\n",
       "      <td>0</td>\n",
       "      <td>0</td>\n",
       "      <td>0</td>\n",
       "      <td>0</td>\n",
       "      <td>0</td>\n",
       "      <td>0</td>\n",
       "      <td>1</td>\n",
       "      <td>1</td>\n",
       "      <td>0</td>\n",
       "      <td>0</td>\n",
       "      <td>...</td>\n",
       "      <td>0</td>\n",
       "      <td>0</td>\n",
       "      <td>0</td>\n",
       "      <td>0</td>\n",
       "      <td>0</td>\n",
       "      <td>0</td>\n",
       "      <td>0</td>\n",
       "      <td>0</td>\n",
       "      <td>2</td>\n",
       "      <td>0</td>\n",
       "    </tr>\n",
       "    <tr>\n",
       "      <th>24998</th>\n",
       "      <td>0</td>\n",
       "      <td>0</td>\n",
       "      <td>0</td>\n",
       "      <td>0</td>\n",
       "      <td>0</td>\n",
       "      <td>0</td>\n",
       "      <td>0</td>\n",
       "      <td>0</td>\n",
       "      <td>0</td>\n",
       "      <td>0</td>\n",
       "      <td>...</td>\n",
       "      <td>0</td>\n",
       "      <td>0</td>\n",
       "      <td>0</td>\n",
       "      <td>0</td>\n",
       "      <td>0</td>\n",
       "      <td>0</td>\n",
       "      <td>0</td>\n",
       "      <td>0</td>\n",
       "      <td>0</td>\n",
       "      <td>0</td>\n",
       "    </tr>\n",
       "    <tr>\n",
       "      <th>24999</th>\n",
       "      <td>0</td>\n",
       "      <td>0</td>\n",
       "      <td>0</td>\n",
       "      <td>0</td>\n",
       "      <td>0</td>\n",
       "      <td>0</td>\n",
       "      <td>1</td>\n",
       "      <td>0</td>\n",
       "      <td>0</td>\n",
       "      <td>0</td>\n",
       "      <td>...</td>\n",
       "      <td>0</td>\n",
       "      <td>0</td>\n",
       "      <td>0</td>\n",
       "      <td>0</td>\n",
       "      <td>0</td>\n",
       "      <td>0</td>\n",
       "      <td>0</td>\n",
       "      <td>0</td>\n",
       "      <td>0</td>\n",
       "      <td>0</td>\n",
       "    </tr>\n",
       "  </tbody>\n",
       "</table>\n",
       "<p>25000 rows × 1000 columns</p>\n",
       "</div>"
      ],
      "text/plain": [
       "       0    1    2    3    4    5    6    7    8    9    ...  990  991  992  \\\n",
       "0        0    0    0    0    0    0    0    0    0    0  ...    0    0    0   \n",
       "1        0    0    0    0    0    0    0    0    0    0  ...    0    0    0   \n",
       "2        0    0    0    0    0    0    0    0    0    0  ...    0    0    0   \n",
       "3        0    0    0    0    0    0    1    1    0    0  ...    0    0    0   \n",
       "4        0    0    0    0    0    0    1    0    0    0  ...    0    0    0   \n",
       "...    ...  ...  ...  ...  ...  ...  ...  ...  ...  ...  ...  ...  ...  ...   \n",
       "24995    0    0    0    0    0    0    0    0    0    1  ...    0    0    0   \n",
       "24996    0    1    0    0    0    0    0    1    0    0  ...    0    0    0   \n",
       "24997    0    0    0    0    0    0    1    1    0    0  ...    0    0    0   \n",
       "24998    0    0    0    0    0    0    0    0    0    0  ...    0    0    0   \n",
       "24999    0    0    0    0    0    0    1    0    0    0  ...    0    0    0   \n",
       "\n",
       "       993  994  995  996  997  998  999  \n",
       "0        1    0    0    0    0    0    0  \n",
       "1        0    0    0    0    0    0    0  \n",
       "2        1    0    0    1    0    0    0  \n",
       "3        0    0    0    0    0    0    0  \n",
       "4        0    0    0    0    0    0    0  \n",
       "...    ...  ...  ...  ...  ...  ...  ...  \n",
       "24995    0    1    0    0    0    0    0  \n",
       "24996    3    0    0    0    0    0    0  \n",
       "24997    0    0    0    0    0    2    0  \n",
       "24998    0    0    0    0    0    0    0  \n",
       "24999    0    0    0    0    0    0    0  \n",
       "\n",
       "[25000 rows x 1000 columns]"
      ]
     },
     "execution_count": 94,
     "metadata": {},
     "output_type": "execute_result"
    }
   ],
   "source": [
    "from sklearn.feature_extraction.text import CountVectorizer\n",
    "\n",
    "bow_vectorizer = CountVectorizer(max_df=0.90, min_df=2, max_features=1000, stop_words='english')\n",
    "\n",
    "# bag-of-words feature matrix\n",
    "bow = bow_vectorizer.fit_transform(linha)\n",
    "\n",
    "df_bow = pd.DataFrame(bow.todense())\n",
    "\n",
    "df_bow"
   ]
  },
  {
   "cell_type": "markdown",
   "metadata": {},
   "source": [
    "#### preparando o arquivo de rótulos"
   ]
  },
  {
   "cell_type": "code",
   "execution_count": 95,
   "metadata": {},
   "outputs": [
    {
     "name": "stdout",
     "output_type": "stream",
     "text": [
      "Counter({1: 12500, 0: 12500})\n"
     ]
    }
   ],
   "source": [
    "import numpy as np\n",
    "import collections\n",
    "labels = labels.split('\\n')\n",
    "labels = np.array([1 if each == 'positive' else 0 for each in labels])\n",
    "print(collections.Counter(labels))"
   ]
  },
  {
   "cell_type": "markdown",
   "metadata": {},
   "source": [
    "#### dividindo os dados em treinamento, validação e teste"
   ]
  },
  {
   "cell_type": "code",
   "execution_count": 96,
   "metadata": {},
   "outputs": [
    {
     "name": "stdout",
     "output_type": "stream",
     "text": [
      "\t\t\tFeature Shapes:\n",
      "Train set: \t\t(20000, 1000) \n",
      "Validation set: \t(2500, 1000) \n",
      "Test set: \t\t(2500, 1000)\n"
     ]
    }
   ],
   "source": [
    "split_frac = 0.8 # geralmente usado 0,8 ou 0,9 de split fraction\n",
    "split_idx = int(len(df_bow)*0.8) # len(features) = 8660, split_idx = 6928\n",
    "\n",
    "train_x, val_x = df_bow[:split_idx], df_bow[split_idx:]\n",
    "train_y, val_y = labels[:split_idx], labels[split_idx:]\n",
    "\n",
    "test_idx = int(len(val_x)*0.5) #len(val_x) = 1732, #test_idx = 866\n",
    "val_x, test_x = val_x[:test_idx], val_x[test_idx:]\n",
    "val_y, test_y = val_y[:test_idx], val_y[test_idx:]\n",
    "\n",
    "print(\"\\t\\t\\tFeature Shapes:\")\n",
    "print(\"Train set: \\t\\t{}\".format(train_x.shape), \n",
    "      \"\\nValidation set: \\t{}\".format(val_x.shape),\n",
    "      \"\\nTest set: \\t\\t{}\".format(test_x.shape))"
   ]
  },
  {
   "cell_type": "markdown",
   "metadata": {},
   "source": [
    "### Treinando os modelos comparativos\n",
    "\n",
    "#### o algoritmo de regressão logarítimica apresentou bons resultados, porém não foi utilizado no trabalho"
   ]
  },
  {
   "cell_type": "code",
   "execution_count": 97,
   "metadata": {},
   "outputs": [
    {
     "name": "stderr",
     "output_type": "stream",
     "text": [
      "C:\\ProgramData\\Anaconda3\\lib\\site-packages\\sklearn\\linear_model\\_logistic.py:762: ConvergenceWarning: lbfgs failed to converge (status=1):\n",
      "STOP: TOTAL NO. of ITERATIONS REACHED LIMIT.\n",
      "\n",
      "Increase the number of iterations (max_iter) or scale the data as shown in:\n",
      "    https://scikit-learn.org/stable/modules/preprocessing.html\n",
      "Please also refer to the documentation for alternative solver options:\n",
      "    https://scikit-learn.org/stable/modules/linear_model.html#logistic-regression\n",
      "  n_iter_i = _check_optimize_result(\n"
     ]
    },
    {
     "data": {
      "text/plain": [
       "array([[0.07082008, 0.92917992],\n",
       "       [0.95727188, 0.04272812],\n",
       "       [0.00647828, 0.99352172],\n",
       "       ...,\n",
       "       [0.95923055, 0.04076945],\n",
       "       [0.38883935, 0.61116065],\n",
       "       [0.9407031 , 0.0592969 ]])"
      ]
     },
     "execution_count": 97,
     "metadata": {},
     "output_type": "execute_result"
    }
   ],
   "source": [
    "from sklearn.metrics import f1_score\n",
    "from sklearn.linear_model import LogisticRegression\n",
    "Log_Reg = LogisticRegression(random_state=0,solver='lbfgs')\n",
    "\n",
    "Log_Reg.fit(train_x,train_y)\n",
    "prediction_bow = Log_Reg.predict_proba(val_x)\n",
    "prediction_bow"
   ]
  },
  {
   "cell_type": "code",
   "execution_count": 12,
   "metadata": {},
   "outputs": [
    {
     "data": {
      "text/plain": [
       "0.8542825361512792"
      ]
     },
     "execution_count": 12,
     "metadata": {},
     "output_type": "execute_result"
    }
   ],
   "source": [
    "# if prediction is greater than or equal to 0.3 than 1 else 0\n",
    "# Where 0 is for positive sentiment tweets and 1 for negative sentiment tweets\n",
    "prediction_int = prediction_bow[:,1]>=0.3\n",
    "\n",
    "# converting the results to integer type\n",
    "prediction_int = prediction_int.astype(np.int)\n",
    "prediction_int\n",
    "\n",
    "# calculating f1 score\n",
    "log_bow = f1_score(val_y, prediction_int)\n",
    "\n",
    "log_bow"
   ]
  },
  {
   "cell_type": "markdown",
   "metadata": {},
   "source": [
    "### Árvore de decisão"
   ]
  },
  {
   "cell_type": "markdown",
   "metadata": {},
   "source": [
    "#### Métricas com dados de treino"
   ]
  },
  {
   "cell_type": "code",
   "execution_count": 106,
   "metadata": {},
   "outputs": [
    {
     "name": "stdout",
     "output_type": "stream",
     "text": [
      "Accuracy of 79.99000000000001\n"
     ]
    }
   ],
   "source": [
    "from sklearn.tree import DecisionTreeClassifier\n",
    "from sklearn.metrics import accuracy_score\n",
    "dct = DecisionTreeClassifier(criterion='entropy',random_state=1,max_depth=15)\n",
    "dct.fit(train_x,train_y)\n",
    "dct_bow = dct.predict(train_x)\n",
    "print('Accuracy of',accuracy_score(dct_bow,train_y)*100)\n"
   ]
  },
  {
   "cell_type": "code",
   "execution_count": 107,
   "metadata": {},
   "outputs": [
    {
     "name": "stdout",
     "output_type": "stream",
     "text": [
      "              precision    recall  f1-score   support\n",
      "\n",
      "           0       0.86      0.72      0.78     10000\n",
      "           1       0.76      0.88      0.82     10000\n",
      "\n",
      "    accuracy                           0.80     20000\n",
      "   macro avg       0.81      0.80      0.80     20000\n",
      "weighted avg       0.81      0.80      0.80     20000\n",
      "\n"
     ]
    }
   ],
   "source": [
    "from sklearn.metrics import classification_report\n",
    "from sklearn.metrics import confusion_matrix\n",
    "\n",
    "print(classification_report(train_y,dct_bow))"
   ]
  },
  {
   "cell_type": "markdown",
   "metadata": {},
   "source": [
    "#### Métricas com dados de validação"
   ]
  },
  {
   "cell_type": "code",
   "execution_count": 108,
   "metadata": {},
   "outputs": [
    {
     "name": "stdout",
     "output_type": "stream",
     "text": [
      "Accuracy of 73.36\n"
     ]
    }
   ],
   "source": [
    "from sklearn.tree import DecisionTreeClassifier\n",
    "from sklearn.metrics import accuracy_score\n",
    "dct = DecisionTreeClassifier(criterion='entropy',random_state=1,max_depth=15)\n",
    "dct.fit(train_x,train_y)\n",
    "dct_bow = dct.predict(val_x)\n",
    "print('Accuracy of',accuracy_score(dct_bow,val_y)*100)\n"
   ]
  },
  {
   "cell_type": "code",
   "execution_count": 109,
   "metadata": {},
   "outputs": [
    {
     "name": "stdout",
     "output_type": "stream",
     "text": [
      "              precision    recall  f1-score   support\n",
      "\n",
      "           0       0.77      0.66      0.71      1250\n",
      "           1       0.70      0.81      0.75      1250\n",
      "\n",
      "    accuracy                           0.73      2500\n",
      "   macro avg       0.74      0.73      0.73      2500\n",
      "weighted avg       0.74      0.73      0.73      2500\n",
      "\n"
     ]
    }
   ],
   "source": [
    "from sklearn.metrics import classification_report\n",
    "from sklearn.metrics import confusion_matrix\n",
    "\n",
    "print(classification_report(val_y,dct_bow))"
   ]
  },
  {
   "cell_type": "markdown",
   "metadata": {},
   "source": [
    "### Floresta Randômica"
   ]
  },
  {
   "cell_type": "markdown",
   "metadata": {},
   "source": [
    "#### Métricas com dados de treino"
   ]
  },
  {
   "cell_type": "code",
   "execution_count": 102,
   "metadata": {},
   "outputs": [
    {
     "name": "stdout",
     "output_type": "stream",
     "text": [
      "Accuracy of 100.0\n"
     ]
    }
   ],
   "source": [
    "from sklearn.ensemble import RandomForestClassifier\n",
    "rfc = RandomForestClassifier(criterion='entropy', random_state=1)\n",
    "rfc.fit(train_x,train_y)\n",
    "rfc_bow = rfc.predict(train_x)\n",
    "print('Accuracy of',accuracy_score(rfc_bow,train_y)*100)\n",
    "#rfc_bow = rfc.predict_proba(val_x)\n",
    "#rfc_bow"
   ]
  },
  {
   "cell_type": "code",
   "execution_count": 103,
   "metadata": {},
   "outputs": [
    {
     "name": "stdout",
     "output_type": "stream",
     "text": [
      "              precision    recall  f1-score   support\n",
      "\n",
      "           0       1.00      1.00      1.00     10000\n",
      "           1       1.00      1.00      1.00     10000\n",
      "\n",
      "    accuracy                           1.00     20000\n",
      "   macro avg       1.00      1.00      1.00     20000\n",
      "weighted avg       1.00      1.00      1.00     20000\n",
      "\n"
     ]
    }
   ],
   "source": [
    "from sklearn.metrics import classification_report\n",
    "from sklearn.metrics import confusion_matrix\n",
    "\n",
    "print(classification_report(train_y,rfc_bow))"
   ]
  },
  {
   "cell_type": "markdown",
   "metadata": {},
   "source": [
    "#### Métricas com dados de validação"
   ]
  },
  {
   "cell_type": "code",
   "execution_count": 104,
   "metadata": {},
   "outputs": [
    {
     "name": "stdout",
     "output_type": "stream",
     "text": [
      "Accuracy of 82.28\n"
     ]
    }
   ],
   "source": [
    "from sklearn.ensemble import RandomForestClassifier\n",
    "rfc = RandomForestClassifier(criterion='entropy', random_state=1)\n",
    "rfc.fit(train_x,train_y)\n",
    "rfc_bow = rfc.predict(val_x)\n",
    "print('Accuracy of',accuracy_score(rfc_bow,val_y)*100)"
   ]
  },
  {
   "cell_type": "code",
   "execution_count": 105,
   "metadata": {},
   "outputs": [
    {
     "name": "stdout",
     "output_type": "stream",
     "text": [
      "              precision    recall  f1-score   support\n",
      "\n",
      "           0       0.82      0.83      0.82      1250\n",
      "           1       0.83      0.81      0.82      1250\n",
      "\n",
      "    accuracy                           0.82      2500\n",
      "   macro avg       0.82      0.82      0.82      2500\n",
      "weighted avg       0.82      0.82      0.82      2500\n",
      "\n"
     ]
    }
   ],
   "source": [
    "from sklearn.metrics import classification_report\n",
    "from sklearn.metrics import confusion_matrix\n",
    "\n",
    "print(classification_report(val_y,rfc_bow))"
   ]
  },
  {
   "cell_type": "markdown",
   "metadata": {},
   "source": [
    "### REDE Neural\n",
    "\n",
    "#### Abaixo o pré-processamento para a Rede Neural. Foi feita uma comparação, mantendo as StopWords e as Retirando\n",
    "#### Técnica utilizada: Dicionário e Word Embedding"
   ]
  },
  {
   "cell_type": "markdown",
   "metadata": {},
   "source": [
    "### C/ Stopwords"
   ]
  },
  {
   "cell_type": "code",
   "execution_count": 79,
   "metadata": {},
   "outputs": [],
   "source": [
    "#Tokenização\n",
    "words_ints = []\n",
    "\n",
    "for c in linha:\n",
    "    words_split = c.split()\n",
    "    for a in words_split:\n",
    "        words_ints.append(''.join(a))"
   ]
  },
  {
   "cell_type": "code",
   "execution_count": null,
   "metadata": {},
   "outputs": [],
   "source": [
    "#Definindo a frequência das palavras\n",
    "\n",
    "def frequency(my_list): \n",
    "\n",
    "    # Creating an empty dictionary  \n",
    "    freq = {} \n",
    "    for item in my_list: \n",
    "        if (item in freq): \n",
    "            freq[item] += 1\n",
    "        else: \n",
    "            freq[item] = 1 \n",
    "    return freq\n",
    "    #for key, value in freq.items(): \n",
    "    #print (\" % s : % d\"%(key, value)) \n",
    "\n",
    "final_list = frequency(words_ints)   "
   ]
  },
  {
   "cell_type": "code",
   "execution_count": null,
   "metadata": {},
   "outputs": [],
   "source": [
    "#Traduzindo o texto\n",
    "\n",
    "from collections import Counter \n",
    "counts = final_list\n",
    "#Counter({'bromwell': 8, 'high': 2161, 'cartoon': 545\n",
    "\n",
    "vocab = sorted(counts, key=counts.get, reverse=True)\n",
    "\n",
    "#['br', 'movie', 'film', 'one', 'time'\n",
    "\n",
    "vocab_to_int = {palavra: ii for ii, palavra in enumerate(vocab, 1)}\n",
    "\n",
    "#{'br':1, 'movie':2, 'film':3, 'one':4, 'time':5,\n",
    "\n",
    "reviews_ints = []\n",
    "    \n",
    "for each in linha: # para cada linha do texto original\n",
    "    each_words = each.split()\n",
    "    reviews_ints.append([vocab_to_int[palavra] for palavra in each_words]) #adiciona à lista o número da palavra"
   ]
  },
  {
   "cell_type": "code",
   "execution_count": null,
   "metadata": {},
   "outputs": [],
   "source": [
    "#analisando o tamanho dos vetores e definindo um tamanho padrão\n",
    "\n",
    "from tqdm.notebook import tqdm\n",
    "import pandas as pd\n",
    "import matplotlib.pyplot as plt\n",
    "import seaborn as sns\n",
    "\n",
    "lengths = [len(i) for i in tqdm(reviews_ints)]\n",
    "\n",
    "length_as_series = pd.Series(lengths)\n",
    "plt.title(\"Probability Density Function for text lengths\")\n",
    "plt.xlabel('text lenghts')\n",
    "\n",
    "\n",
    "sns.distplot(length_as_series)\n",
    "\n",
    "\n",
    "\n",
    "max_pad_length = length_as_series.quantile(0.8) #percentil 8\n",
    "print(max_pad_length)"
   ]
  },
  {
   "cell_type": "code",
   "execution_count": null,
   "metadata": {},
   "outputs": [],
   "source": [
    "#Padronizando os vetores \n",
    "\n",
    "seq_len = max_pad_length\n",
    "features = np.zeros((len(linha), seq_len), dtype=int)\n",
    "for i, row in enumerate(reviews_ints):\n",
    "    features[i, -len(row):] = np.array(row)[:seq_len]\n"
   ]
  },
  {
   "cell_type": "code",
   "execution_count": null,
   "metadata": {},
   "outputs": [],
   "source": [
    "#Divisão em treino, validação e teste\n",
    "\n",
    "split_frac = 0.8 \n",
    "split_idx = int(len(features)*0.8)\n",
    "\n",
    "train_x, val_x = features[:split_idx], features[split_idx:]\n",
    "train_y, val_y = labels[:split_idx], labels[split_idx:]\n",
    "\n",
    "test_idx = int(len(val_x)*0.5) \n",
    "val_x, test_x = val_x[:test_idx], val_x[test_idx:]\n",
    "val_y, test_y = val_y[:test_idx], val_y[test_idx:]\n",
    "\n",
    "print(\"\\t\\t\\tFeature Shapes:\")\n",
    "print(\"Train set: \\t\\t{}\".format(train_x.shape), \n",
    "      \"\\nValidation set: \\t{}\".format(val_x.shape),\n",
    "      \"\\nTest set: \\t\\t{}\".format(test_x.shape))"
   ]
  },
  {
   "cell_type": "code",
   "execution_count": 18,
   "metadata": {},
   "outputs": [
    {
     "name": "stdout",
     "output_type": "stream",
     "text": [
      "Model: \"sequential_2\"\n",
      "_________________________________________________________________\n",
      "Layer (type)                 Output Shape              Param #   \n",
      "=================================================================\n",
      "embedding_2 (Embedding)      (None, None, 64)          4730880   \n",
      "_________________________________________________________________\n",
      "global_average_pooling1d_2 ( (None, 64)                0         \n",
      "_________________________________________________________________\n",
      "dense_4 (Dense)              (None, 6)                 390       \n",
      "_________________________________________________________________\n",
      "dropout_2 (Dropout)          (None, 6)                 0         \n",
      "_________________________________________________________________\n",
      "dense_5 (Dense)              (None, 1)                 7         \n",
      "=================================================================\n",
      "Total params: 4,731,277\n",
      "Trainable params: 4,731,277\n",
      "Non-trainable params: 0\n",
      "_________________________________________________________________\n"
     ]
    }
   ],
   "source": [
    "#Arquitetura da Rede\n",
    "\n",
    "embedding_dim = 64\n",
    "n_words = len(vocab)\n",
    "model = tf.keras.Sequential([\n",
    "    tf.keras.layers.Embedding(n_words+1, embedding_dim),\n",
    "    tf.keras.layers.GlobalAveragePooling1D(),\n",
    "    tf.keras.layers.Dense(6, activation='relu'),\n",
    "    tf.keras.layers.Dropout(0.2),\n",
    "    tf.keras.layers.Dense(1, activation='sigmoid')\n",
    "])\n",
    "\n",
    "model.summary()"
   ]
  },
  {
   "cell_type": "code",
   "execution_count": null,
   "metadata": {},
   "outputs": [],
   "source": [
    "#Compilando o modelo\n",
    "\n",
    "from keras import backend as K\n",
    "num_epochs = 10\n",
    "\n",
    "def recall_m(y_true, y_pred):\n",
    "    true_positives = K.sum(K.round(K.clip(y_true * y_pred, 0, 1)))\n",
    "    possible_positives = K.sum(K.round(K.clip(y_true, 0, 1)))\n",
    "    recall = true_positives / (possible_positives + K.epsilon())\n",
    "    return recall\n",
    "\n",
    "def precision_m(y_true, y_pred):\n",
    "    true_positives = K.sum(K.round(K.clip(y_true * y_pred, 0, 1)))\n",
    "    predicted_positives = K.sum(K.round(K.clip(y_pred, 0, 1)))\n",
    "    precision = true_positives / (predicted_positives + K.epsilon())\n",
    "    return precision\n",
    "\n",
    "def f1_m(y_true, y_pred):\n",
    "    precision = precision_m(y_true, y_pred)\n",
    "    recall = recall_m(y_true, y_pred)\n",
    "    return 2*((precision*recall)/(precision+recall+K.epsilon()))\n",
    "\n",
    "# compile the model\n",
    "model.compile(optimizer='adam', loss='binary_crossentropy', metrics=['acc',f1_m,precision_m, recall_m])\n",
    "\n",
    "# fit the model\n",
    "history = model.fit(train_x, train_y,\n",
    "              batch_size=500, epochs=num_epochs,\n",
    "              verbose=2,\n",
    "              validation_data=(val_x, val_y))\n",
    "\n",
    "# evaluate the model\n",
    "#loss, accuracy, f1_score, precision, recall = model.evaluate(test_x, test_y, verbose=0)"
   ]
  },
  {
   "cell_type": "markdown",
   "metadata": {},
   "source": [
    "### S/ Stopwords - Foram retiradas as palavras não necessárias para o entendimento do contexto, como artigos, preposições, etc"
   ]
  },
  {
   "cell_type": "code",
   "execution_count": 5,
   "metadata": {},
   "outputs": [],
   "source": [
    "#Tokenização\n",
    "words_ints = []\n",
    "\n",
    "for c in sentences:\n",
    "    words_split = c.split()\n",
    "    for a in words_split:\n",
    "        words_ints.append(''.join(a))"
   ]
  },
  {
   "cell_type": "code",
   "execution_count": 6,
   "metadata": {},
   "outputs": [],
   "source": [
    "#Definindo a frequência das palavras\n",
    "\n",
    "def frequency(my_list): \n",
    "\n",
    "    # Creating an empty dictionary  \n",
    "    freq = {} \n",
    "    for item in my_list: \n",
    "        if (item in freq): \n",
    "            freq[item] += 1\n",
    "        else: \n",
    "            freq[item] = 1 \n",
    "    return freq\n",
    "    #for key, value in freq.items(): \n",
    "    #print (\" % s : % d\"%(key, value)) \n",
    "\n",
    "final_list = frequency(words_ints)"
   ]
  },
  {
   "cell_type": "code",
   "execution_count": 7,
   "metadata": {},
   "outputs": [],
   "source": [
    "#Traduzindo o texto\n",
    "\n",
    "from collections import Counter \n",
    "\n",
    "counts = final_list\n",
    "#Counter({'bromwell': 8, 'high': 2161, 'cartoon': 545\n",
    "\n",
    "vocab = sorted(counts, key=counts.get, reverse=True) \n",
    "\n",
    "#['br', 'movie', 'film', 'one', 'time'\n",
    "\n",
    "vocab_to_int = {palavra: ii for ii, palavra in enumerate(vocab, 1)}\n",
    "\n",
    "#{'br':1, 'movie':2, 'film':3, 'one':4, 'time':5,\n",
    "\n",
    "reviews_ints = []\n",
    "    \n",
    "for each in sentences: # para cada linha do texto original\n",
    "    each_words = each.split()\n",
    "    reviews_ints.append([vocab_to_int[palavra] for palavra in each_words]) #adiciona à lista o número da palavra\n",
    "  "
   ]
  },
  {
   "cell_type": "markdown",
   "metadata": {
    "id": "OiQUiMV8XxO6"
   },
   "source": [
    "### Encoding the labels\n",
    "\n",
    "Os rótulos são \"positivos\" ou \"negativos\". Para usar esses rótulos na rede, pode-se convertê-los em 0 e 1.\n"
   ]
  },
  {
   "cell_type": "code",
   "execution_count": 8,
   "metadata": {
    "id": "SPvS-3zVXxO8"
   },
   "outputs": [
    {
     "name": "stdout",
     "output_type": "stream",
     "text": [
      "Counter({1: 12500, 0: 12500})\n"
     ]
    }
   ],
   "source": [
    "import numpy as np\n",
    "import collections\n",
    "labels = labels.split('\\n')\n",
    "labels = np.array([1 if each == 'positive' else 0 for each in labels])\n",
    "print(collections.Counter(labels))\n"
   ]
  },
  {
   "cell_type": "code",
   "execution_count": 9,
   "metadata": {
    "id": "yxWhoI6IXxPB",
    "outputId": "8b1141d3-ff03-44bd-9481-1b97ce6e26d6"
   },
   "outputs": [
    {
     "name": "stdout",
     "output_type": "stream",
     "text": [
      "Zero-length reviews: 0\n",
      "Maximum review length: 1442\n"
     ]
    }
   ],
   "source": [
    "review_lens = Counter([len(x) for x in reviews_ints])\n",
    "\n",
    "print(\"Zero-length reviews: {}\".format(review_lens[0]))\n",
    "print(\"Maximum review length: {}\".format(max(review_lens)))"
   ]
  },
  {
   "cell_type": "code",
   "execution_count": 9,
   "metadata": {},
   "outputs": [],
   "source": [
    "# Filter out that review with 0 length\n",
    "reviews_ints = [each for each in reviews_ints if len(each) > 0]"
   ]
  },
  {
   "cell_type": "code",
   "execution_count": 215,
   "metadata": {},
   "outputs": [],
   "source": [
    "#!pip install tqdm"
   ]
  },
  {
   "cell_type": "markdown",
   "metadata": {},
   "source": [
    "Tem-se uma revisão com comprimento zero além de o comprimento máximo da revisão serem muitos passos para a RNN. Será estabelecido o limite de 173 entradas. Para avaliações menores que 173, será preenchido com 0s. Para comentários maiores que esse limite, serão truncados nos primeiros 173 caracteres."
   ]
  },
  {
   "cell_type": "code",
   "execution_count": 10,
   "metadata": {},
   "outputs": [
    {
     "data": {
      "application/vnd.jupyter.widget-view+json": {
       "model_id": "ca908fcbe2ce4f5c88a59cbbac41a582",
       "version_major": 2,
       "version_minor": 0
      },
      "text/plain": [
       "HBox(children=(FloatProgress(value=0.0, max=25000.0), HTML(value='')))"
      ]
     },
     "metadata": {},
     "output_type": "display_data"
    },
    {
     "name": "stdout",
     "output_type": "stream",
     "text": [
      "\n",
      "151.0\n"
     ]
    },
    {
     "data": {
      "image/png": "[encoded data removed]",
      "text/plain": [
       "<Figure size 432x288 with 1 Axes>"
      ]
     },
     "metadata": {
      "needs_background": "light"
     },
     "output_type": "display_data"
    }
   ],
   "source": [
    "#analisando o tamanho dos vetores e definindo um tamanho padrão\n",
    "\n",
    "from tqdm.notebook import tqdm\n",
    "import pandas as pd\n",
    "import matplotlib.pyplot as plt\n",
    "import seaborn as sns\n",
    "\n",
    "lengths = [len(i) for i in tqdm(reviews_ints)]\n",
    "\n",
    "length_as_series = pd.Series(lengths)\n",
    "plt.title(\"Probability Density Function for text lengths\")\n",
    "plt.xlabel('text lenghts')\n",
    "\n",
    "\n",
    "sns.distplot(length_as_series)\n",
    "\n",
    "\n",
    "\n",
    "max_pad_length = length_as_series.quantile(0.75) #percentil 8\n",
    "print(max_pad_length)"
   ]
  },
  {
   "cell_type": "markdown",
   "metadata": {
    "id": "jlWcbKsxXxPJ"
   },
   "source": [
    "Será criado um array `features` que contém os dados que passaremos para a rede. Os dados virão de `review_ints`, pois a rede será alimentada pelos inteiros. Para comentários com menos de 200 palavras, bloco esquerdo será preenchido com 0s. Ou seja, se a revisão for `['melhor', 'filme', 'sempre']`, `[117, 18, 128]`, a linha será semelhante a `[0, 0, 0, .. ., 0, 117, 18, 128] `.\n"
   ]
  },
  {
   "cell_type": "code",
   "execution_count": 11,
   "metadata": {
    "id": "nCL4ReQ6XxPK"
   },
   "outputs": [],
   "source": [
    "#Padronizando os vetores \n",
    "\n",
    "seq_len = 151\n",
    "features = np.zeros((len(sentences), seq_len), dtype=int) #numpy.zeros(shape = 8660, dtype=int)\n",
    "for i, row in enumerate(reviews_ints):\n",
    "    features[i, -len(row):] = np.array(row)[:seq_len]\n"
   ]
  },
  {
   "cell_type": "markdown",
   "metadata": {
    "id": "WJfeYu6VXxPU"
   },
   "source": [
    "## Dados de treinamento, validação e teste\n",
    "Geralmente usa-se 80% dos dados para treinamento. Os outros 20% divididos em teste e validação, 10% para cada.\n",
    "\n",
    "Com treino, validação e e teste com frações respectivamente de 0.8, 0.1, 0.1, o resultado final deverá ser algo como:\n",
    "```\n",
    "                    Feature Shapes:\n",
    "Train set: \t\t (20000, 173) \n",
    "Validation set: \t(2500, 173) \n",
    "Test set: \t\t  (2500, 173)\n",
    "```"
   ]
  },
  {
   "cell_type": "code",
   "execution_count": 12,
   "metadata": {
    "id": "MehBqoObXxPV",
    "outputId": "dc0e52f7-461e-4373-b48c-1a4699e30a29"
   },
   "outputs": [
    {
     "name": "stdout",
     "output_type": "stream",
     "text": [
      "\t\t\tFeature Shapes:\n",
      "Train set: \t\t(20000, 151) \n",
      "Validation set: \t(2500, 151) \n",
      "Test set: \t\t(2500, 151)\n"
     ]
    }
   ],
   "source": [
    "#Divisão em treino, validação e teste\n",
    "\n",
    "split_frac = 0.8 \n",
    "split_idx = int(len(features)*0.8)\n",
    "\n",
    "train_x, val_x = features[:split_idx], features[split_idx:]\n",
    "train_y, val_y = labels[:split_idx], labels[split_idx:]\n",
    "\n",
    "test_idx = int(len(val_x)*0.5) \n",
    "val_x, test_x = val_x[:test_idx], val_x[test_idx:]\n",
    "val_y, test_y = val_y[:test_idx], val_y[test_idx:]\n",
    "\n",
    "print(\"\\t\\t\\tFeature Shapes:\")\n",
    "print(\"Train set: \\t\\t{}\".format(train_x.shape), \n",
    "      \"\\nValidation set: \\t{}\".format(val_x.shape),\n",
    "      \"\\nTest set: \\t\\t{}\".format(test_x.shape))"
   ]
  },
  {
   "cell_type": "markdown",
   "metadata": {},
   "source": [
    "### Modelo RNN básico"
   ]
  },
  {
   "cell_type": "code",
   "execution_count": 48,
   "metadata": {},
   "outputs": [
    {
     "name": "stdout",
     "output_type": "stream",
     "text": [
      "Model: \"sequential_18\"\n",
      "_________________________________________________________________\n",
      "Layer (type)                 Output Shape              Param #   \n",
      "=================================================================\n",
      "embedding_18 (Embedding)     (None, None, 64)          4730880   \n",
      "_________________________________________________________________\n",
      "global_average_pooling1d_7 ( (None, 64)                0         \n",
      "_________________________________________________________________\n",
      "dense_27 (Dense)             (None, 10)                650       \n",
      "_________________________________________________________________\n",
      "dropout_11 (Dropout)         (None, 10)                0         \n",
      "_________________________________________________________________\n",
      "dense_28 (Dense)             (None, 1)                 11        \n",
      "=================================================================\n",
      "Total params: 4,731,541\n",
      "Trainable params: 4,731,541\n",
      "Non-trainable params: 0\n",
      "_________________________________________________________________\n"
     ]
    }
   ],
   "source": [
    "#Arquitetura do modelo\n",
    "#from keras.layers import Dropout\n",
    "embedding_dim = 64\n",
    "n_words = len(vocab)\n",
    "model = tf.keras.Sequential([\n",
    "    tf.keras.layers.Embedding(n_words+1, embedding_dim),\n",
    "    tf.keras.layers.GlobalAveragePooling1D(),\n",
    "    tf.keras.layers.Dense(10, activation='relu'),\n",
    "    tf.keras.layers.Dropout(0.4),\n",
    "    tf.keras.layers.Dense(1, activation='sigmoid')\n",
    "])\n",
    "\n",
    "model.summary()"
   ]
  },
  {
   "cell_type": "code",
   "execution_count": 49,
   "metadata": {},
   "outputs": [
    {
     "name": "stdout",
     "output_type": "stream",
     "text": [
      "Epoch 1/10\n",
      "40/40 - 5s - loss: 0.2485 - acc: 0.5749 - f1_m: 0.6312 - precision_m: 0.5552 - recall_m: 0.7491 - val_loss: 0.2458 - val_acc: 0.6684 - val_f1_m: 0.7473 - val_precision_m: 0.6045 - val_recall_m: 0.9792\n",
      "Epoch 2/10\n",
      "40/40 - 4s - loss: 0.2391 - acc: 0.7106 - f1_m: 0.7456 - precision_m: 0.6669 - recall_m: 0.8489 - val_loss: 0.2323 - val_acc: 0.7840 - val_f1_m: 0.8149 - val_precision_m: 0.7135 - val_recall_m: 0.9504\n",
      "Epoch 3/10\n",
      "40/40 - 4s - loss: 0.2166 - acc: 0.7687 - f1_m: 0.7874 - precision_m: 0.7297 - recall_m: 0.8574 - val_loss: 0.2055 - val_acc: 0.8348 - val_f1_m: 0.8480 - val_precision_m: 0.7857 - val_recall_m: 0.9216\n",
      "Epoch 4/10\n",
      "40/40 - 4s - loss: 0.1836 - acc: 0.8150 - f1_m: 0.8224 - precision_m: 0.7910 - recall_m: 0.8575 - val_loss: 0.1733 - val_acc: 0.8480 - val_f1_m: 0.8546 - val_precision_m: 0.8194 - val_recall_m: 0.8936\n",
      "Epoch 5/10\n",
      "40/40 - 4s - loss: 0.1501 - acc: 0.8499 - f1_m: 0.8526 - precision_m: 0.8377 - recall_m: 0.8690 - val_loss: 0.1470 - val_acc: 0.8560 - val_f1_m: 0.8573 - val_precision_m: 0.8504 - val_recall_m: 0.8648\n",
      "Epoch 6/10\n",
      "40/40 - 4s - loss: 0.1229 - acc: 0.8770 - f1_m: 0.8777 - precision_m: 0.8720 - recall_m: 0.8840 - val_loss: 0.1293 - val_acc: 0.8604 - val_f1_m: 0.8600 - val_precision_m: 0.8621 - val_recall_m: 0.8584\n",
      "Epoch 7/10\n",
      "40/40 - 4s - loss: 0.1050 - acc: 0.8971 - f1_m: 0.8973 - precision_m: 0.8937 - recall_m: 0.9013 - val_loss: 0.1186 - val_acc: 0.8632 - val_f1_m: 0.8626 - val_precision_m: 0.8659 - val_recall_m: 0.8600\n",
      "Epoch 8/10\n",
      "40/40 - 4s - loss: 0.0900 - acc: 0.9089 - f1_m: 0.9087 - precision_m: 0.9089 - recall_m: 0.9089 - val_loss: 0.1125 - val_acc: 0.8640 - val_f1_m: 0.8630 - val_precision_m: 0.8690 - val_recall_m: 0.8576\n",
      "Epoch 9/10\n",
      "40/40 - 4s - loss: 0.0775 - acc: 0.9234 - f1_m: 0.9232 - precision_m: 0.9239 - recall_m: 0.9228 - val_loss: 0.1097 - val_acc: 0.8612 - val_f1_m: 0.8574 - val_precision_m: 0.8812 - val_recall_m: 0.8352\n",
      "Epoch 10/10\n",
      "40/40 - 4s - loss: 0.0671 - acc: 0.9331 - f1_m: 0.9327 - precision_m: 0.9353 - recall_m: 0.9306 - val_loss: 0.1076 - val_acc: 0.8592 - val_f1_m: 0.8555 - val_precision_m: 0.8780 - val_recall_m: 0.8344\n"
     ]
    }
   ],
   "source": [
    "#Compilando o modelo\n",
    "\n",
    "from keras import backend as K\n",
    "num_epochs = 10\n",
    "\n",
    "def recall_m(y_true, y_pred):\n",
    "    true_positives = K.sum(K.round(K.clip(y_true * y_pred, 0, 1)))\n",
    "    possible_positives = K.sum(K.round(K.clip(y_true, 0, 1)))\n",
    "    recall = true_positives / (possible_positives + K.epsilon())\n",
    "    return recall\n",
    "\n",
    "def precision_m(y_true, y_pred):\n",
    "    true_positives = K.sum(K.round(K.clip(y_true * y_pred, 0, 1)))\n",
    "    predicted_positives = K.sum(K.round(K.clip(y_pred, 0, 1)))\n",
    "    precision = true_positives / (predicted_positives + K.epsilon())\n",
    "    return precision\n",
    "\n",
    "def f1_m(y_true, y_pred):\n",
    "    precision = precision_m(y_true, y_pred)\n",
    "    recall = recall_m(y_true, y_pred)\n",
    "    return 2*((precision*recall)/(precision+recall+K.epsilon()))\n",
    "\n",
    "# compile the model\n",
    "#model.compile(optimizer='adam', loss='binary_crossentropy', metrics=['acc',f1_m,precision_m, recall_m])\n",
    "model.compile(optimizer='adam', loss='mse', metrics=['acc',f1_m,precision_m, recall_m])\n",
    "# fit the model\n",
    "history = model.fit(train_x, train_y,\n",
    "              batch_size=500, epochs=num_epochs,\n",
    "              verbose=2,\n",
    "              validation_data=(val_x, val_y))\n",
    "\n",
    "# evaluate the model\n",
    "#loss, accuracy, f1_score, precision, recall = model.evaluate(test_x, test_y, verbose=0)"
   ]
  },
  {
   "cell_type": "markdown",
   "metadata": {},
   "source": [
    "### Modelo LSTM - KERAS"
   ]
  },
  {
   "cell_type": "code",
   "execution_count": 32,
   "metadata": {},
   "outputs": [
    {
     "name": "stdout",
     "output_type": "stream",
     "text": [
      "Model: \"sequential_9\"\n",
      "_________________________________________________________________\n",
      "Layer (type)                 Output Shape              Param #   \n",
      "=================================================================\n",
      "embedding_9 (Embedding)      (None, None, 64)          4730880   \n",
      "_________________________________________________________________\n",
      "dropout_2 (Dropout)          (None, None, 64)          0         \n",
      "_________________________________________________________________\n",
      "lstm_12 (LSTM)               (None, None, 5)           1400      \n",
      "_________________________________________________________________\n",
      "lstm_13 (LSTM)               (None, 10)                640       \n",
      "_________________________________________________________________\n",
      "dense_10 (Dense)             (None, 1)                 11        \n",
      "=================================================================\n",
      "Total params: 4,732,931\n",
      "Trainable params: 4,732,931\n",
      "Non-trainable params: 0\n",
      "_________________________________________________________________\n"
     ]
    }
   ],
   "source": [
    "from tensorflow.keras.layers import LSTM\n",
    "from keras.layers import Dropout\n",
    "\n",
    "model = tf.keras.Sequential()\n",
    "model.add(tf.keras.layers.Embedding(n_words+1, embedding_dim))\n",
    "#model.add(LSTM(50, activation='relu', input_shape=(1, 1)))\n",
    "model.add(Dropout(0.2))\n",
    "model.add(LSTM(5, activation='relu', return_sequences=True, input_shape=(1, 1)))\n",
    "model.add(LSTM(10, activation='relu'))\n",
    "#model.add(tf.keras.layers.Dropout(0.4))\n",
    "model.add(tf.keras.layers.Dense(1, activation='sigmoid'))\n",
    "model.summary()"
   ]
  },
  {
   "cell_type": "code",
   "execution_count": 29,
   "metadata": {},
   "outputs": [
    {
     "name": "stdout",
     "output_type": "stream",
     "text": [
      "Epoch 1/10\n",
      "40/40 - 21s - loss: 0.2483 - acc: 0.6327 - f1_m: 0.5901 - precision_m: 0.6518 - recall_m: 0.6075 - val_loss: 0.2437 - val_acc: 0.7308 - val_f1_m: 0.7289 - val_precision_m: 0.7341 - val_recall_m: 0.7240\n",
      "Epoch 2/10\n",
      "40/40 - 14s - loss: 0.2040 - acc: 0.8054 - f1_m: 0.7959 - precision_m: 0.8338 - recall_m: 0.7678 - val_loss: 0.1406 - val_acc: 0.8168 - val_f1_m: 0.8294 - val_precision_m: 0.7757 - val_recall_m: 0.8912\n",
      "Epoch 3/10\n",
      "40/40 - 15s - loss: 0.0907 - acc: 0.8863 - f1_m: 0.8884 - precision_m: 0.8720 - recall_m: 0.9069 - val_loss: 0.1264 - val_acc: 0.8332 - val_f1_m: 0.8305 - val_precision_m: 0.8449 - val_recall_m: 0.8168\n",
      "Epoch 4/10\n",
      "40/40 - 14s - loss: 0.0613 - acc: 0.9298 - f1_m: 0.9294 - precision_m: 0.9294 - recall_m: 0.9315 - val_loss: 0.1295 - val_acc: 0.8224 - val_f1_m: 0.8188 - val_precision_m: 0.8354 - val_recall_m: 0.8032\n",
      "Epoch 5/10\n",
      "40/40 - 14s - loss: 0.0398 - acc: 0.9585 - f1_m: 0.9587 - precision_m: 0.9559 - recall_m: 0.9617 - val_loss: 0.1397 - val_acc: 0.8268 - val_f1_m: 0.8207 - val_precision_m: 0.8494 - val_recall_m: 0.7944\n",
      "Epoch 6/10\n",
      "40/40 - 14s - loss: 0.0351 - acc: 0.9636 - f1_m: 0.9632 - precision_m: 0.9690 - recall_m: 0.9585 - val_loss: 0.1349 - val_acc: 0.8140 - val_f1_m: 0.8104 - val_precision_m: 0.8263 - val_recall_m: 0.7952\n",
      "Epoch 7/10\n",
      "40/40 - 15s - loss: 0.0325 - acc: 0.9700 - f1_m: 0.9699 - precision_m: 0.9715 - recall_m: 0.9686 - val_loss: 0.1606 - val_acc: 0.8036 - val_f1_m: 0.7856 - val_precision_m: 0.8623 - val_recall_m: 0.7224\n",
      "Epoch 8/10\n",
      "40/40 - 15s - loss: 0.0234 - acc: 0.9765 - f1_m: 0.9765 - precision_m: 0.9742 - recall_m: 0.9788 - val_loss: 0.1587 - val_acc: 0.8124 - val_f1_m: 0.8038 - val_precision_m: 0.8411 - val_recall_m: 0.7704\n",
      "Epoch 9/10\n",
      "40/40 - 14s - loss: 0.0210 - acc: 0.9792 - f1_m: 0.9792 - precision_m: 0.9750 - recall_m: 0.9835 - val_loss: 0.1610 - val_acc: 0.8096 - val_f1_m: 0.8023 - val_precision_m: 0.8331 - val_recall_m: 0.7744\n",
      "Epoch 10/10\n",
      "40/40 - 15s - loss: 0.0206 - acc: 0.9796 - f1_m: 0.9796 - precision_m: 0.9741 - recall_m: 0.9853 - val_loss: 0.1705 - val_acc: 0.8028 - val_f1_m: 0.7915 - val_precision_m: 0.8383 - val_recall_m: 0.7504\n"
     ]
    }
   ],
   "source": [
    "#Compilando o modelo\n",
    "\n",
    "from keras import backend as K\n",
    "num_epochs = 10\n",
    "\n",
    "def recall_m(y_true, y_pred):\n",
    "    true_positives = K.sum(K.round(K.clip(y_true * y_pred, 0, 1)))\n",
    "    possible_positives = K.sum(K.round(K.clip(y_true, 0, 1)))\n",
    "    recall = true_positives / (possible_positives + K.epsilon())\n",
    "    return recall\n",
    "\n",
    "def precision_m(y_true, y_pred):\n",
    "    true_positives = K.sum(K.round(K.clip(y_true * y_pred, 0, 1)))\n",
    "    predicted_positives = K.sum(K.round(K.clip(y_pred, 0, 1)))\n",
    "    precision = true_positives / (predicted_positives + K.epsilon())\n",
    "    return precision\n",
    "\n",
    "def f1_m(y_true, y_pred):\n",
    "    precision = precision_m(y_true, y_pred)\n",
    "    recall = recall_m(y_true, y_pred)\n",
    "    return 2*((precision*recall)/(precision+recall+K.epsilon()))\n",
    "\n",
    "# compile the model\n",
    "#model.compile(optimizer='adam', loss='binary_crossentropy', metrics=['acc',f1_m,precision_m, recall_m])\n",
    "model.compile(optimizer='adam', loss='mse', metrics=['acc',f1_m,precision_m, recall_m])\n",
    "# fit the model\n",
    "history = model.fit(train_x, train_y,\n",
    "              batch_size=500, epochs=num_epochs,\n",
    "              verbose=2,\n",
    "              validation_data=(val_x, val_y))\n",
    "\n",
    "# evaluate the model\n",
    "#loss, accuracy, f1_score, precision, recall = model.evaluate(test_x, test_y, verbose=0)"
   ]
  },
  {
   "cell_type": "code",
   "execution_count": 147,
   "metadata": {},
   "outputs": [
    {
     "name": "stdout",
     "output_type": "stream",
     "text": [
      "79/79 - 1s - loss: 0.1110 - acc: 0.8524 - f1_m: 0.8454 - precision_m: 0.8730 - recall_m: 0.8315\n"
     ]
    }
   ],
   "source": [
    "#Utilizando dados de teste\n",
    "loss, accuracy, f1_score, precision, recall = model.evaluate(test_x, test_y, verbose=2)"
   ]
  },
  {
   "cell_type": "code",
   "execution_count": 74,
   "metadata": {},
   "outputs": [
    {
     "name": "stdout",
     "output_type": "stream",
     "text": [
      "79/79 - 1s - loss: 0.1104 - acc: 0.8544 - f1_m: 0.8471 - precision_m: 0.8736 - recall_m: 0.8339\n"
     ]
    }
   ],
   "source": [
    "loss, accuracy, f1_score, precision, recall = model.evaluate(test_x, test_y, verbose=2)"
   ]
  },
  {
   "cell_type": "markdown",
   "metadata": {},
   "source": [
    "### Teste Dropout"
   ]
  },
  {
   "cell_type": "code",
   "execution_count": 37,
   "metadata": {},
   "outputs": [
    {
     "name": "stdout",
     "output_type": "stream",
     "text": [
      "Model: \"sequential_12\"\n",
      "_________________________________________________________________\n",
      "Layer (type)                 Output Shape              Param #   \n",
      "=================================================================\n",
      "embedding_12 (Embedding)     (None, None, 64)          4730880   \n",
      "_________________________________________________________________\n",
      "dropout_5 (Dropout)          (None, None, 64)          0         \n",
      "_________________________________________________________________\n",
      "lstm_18 (LSTM)               (None, None, 5)           1400      \n",
      "_________________________________________________________________\n",
      "lstm_19 (LSTM)               (None, 10)                640       \n",
      "_________________________________________________________________\n",
      "dense_13 (Dense)             (None, 1)                 11        \n",
      "=================================================================\n",
      "Total params: 4,732,931\n",
      "Trainable params: 4,732,931\n",
      "Non-trainable params: 0\n",
      "_________________________________________________________________\n"
     ]
    }
   ],
   "source": [
    "from tensorflow.keras.layers import LSTM\n",
    "from keras.layers import Dropout\n",
    "\n",
    "model = tf.keras.Sequential()\n",
    "model.add(tf.keras.layers.Embedding(n_words+1, embedding_dim))\n",
    "#model.add(LSTM(50, activation='relu', input_shape=(1, 1)))\n",
    "model.add(Dropout(0.1))\n",
    "model.add(LSTM(5, activation='relu', return_sequences=True, input_shape=(1, 1)))\n",
    "model.add(LSTM(10, activation='relu'))\n",
    "#model.add(tf.keras.layers.Dropout(0.4))\n",
    "model.add(tf.keras.layers.Dense(1, activation='sigmoid'))\n",
    "model.summary()"
   ]
  },
  {
   "cell_type": "code",
   "execution_count": 38,
   "metadata": {},
   "outputs": [
    {
     "name": "stdout",
     "output_type": "stream",
     "text": [
      "Epoch 1/10\n",
      "40/40 - 16s - loss: 0.2488 - acc: 0.6144 - f1_m: 0.5783 - precision_m: 0.6831 - recall_m: 0.5546 - val_loss: 0.2457 - val_acc: 0.6592 - val_f1_m: 0.5579 - val_precision_m: 0.7930 - val_recall_m: 0.4312\n",
      "Epoch 2/10\n",
      "40/40 - 12s - loss: 0.2116 - acc: 0.7328 - f1_m: 0.6715 - precision_m: 0.8473 - recall_m: 0.5867 - val_loss: 0.1491 - val_acc: 0.7992 - val_f1_m: 0.8031 - val_precision_m: 0.7879 - val_recall_m: 0.8192\n",
      "Epoch 3/10\n",
      "40/40 - 12s - loss: 0.1064 - acc: 0.8618 - f1_m: 0.8675 - precision_m: 0.8385 - recall_m: 0.9030 - val_loss: 0.1222 - val_acc: 0.8252 - val_f1_m: 0.8312 - val_precision_m: 0.8038 - val_recall_m: 0.8608\n",
      "Epoch 4/10\n",
      "40/40 - 12s - loss: 0.0614 - acc: 0.9247 - f1_m: 0.9257 - precision_m: 0.9124 - recall_m: 0.9399 - val_loss: 0.1229 - val_acc: 0.8276 - val_f1_m: 0.8320 - val_precision_m: 0.8112 - val_recall_m: 0.8544\n",
      "Epoch 5/10\n",
      "40/40 - 12s - loss: 0.0405 - acc: 0.9548 - f1_m: 0.9553 - precision_m: 0.9463 - recall_m: 0.9649 - val_loss: 0.1339 - val_acc: 0.8248 - val_f1_m: 0.8274 - val_precision_m: 0.8152 - val_recall_m: 0.8400\n",
      "Epoch 6/10\n",
      "40/40 - 12s - loss: 0.0280 - acc: 0.9700 - f1_m: 0.9700 - precision_m: 0.9658 - recall_m: 0.9744 - val_loss: 0.1339 - val_acc: 0.8204 - val_f1_m: 0.8219 - val_precision_m: 0.8153 - val_recall_m: 0.8288\n",
      "Epoch 7/10\n",
      "40/40 - 12s - loss: 0.0668 - acc: 0.9274 - f1_m: 0.9294 - precision_m: 0.9124 - recall_m: 0.9517 - val_loss: 0.1537 - val_acc: 0.7940 - val_f1_m: 0.7942 - val_precision_m: 0.7933 - val_recall_m: 0.7952\n",
      "Epoch 8/10\n",
      "40/40 - 13s - loss: 0.0373 - acc: 0.9592 - f1_m: 0.9590 - precision_m: 0.9607 - recall_m: 0.9575 - val_loss: 0.1632 - val_acc: 0.7980 - val_f1_m: 0.7938 - val_precision_m: 0.8110 - val_recall_m: 0.7776\n",
      "Epoch 9/10\n",
      "40/40 - 13s - loss: 0.0230 - acc: 0.9764 - f1_m: 0.9764 - precision_m: 0.9730 - recall_m: 0.9800 - val_loss: 0.1583 - val_acc: 0.8008 - val_f1_m: 0.7916 - val_precision_m: 0.8300 - val_recall_m: 0.7568\n",
      "Epoch 10/10\n",
      "40/40 - 13s - loss: 0.0173 - acc: 0.9832 - f1_m: 0.9831 - precision_m: 0.9799 - recall_m: 0.9865 - val_loss: 0.1589 - val_acc: 0.8004 - val_f1_m: 0.7902 - val_precision_m: 0.8327 - val_recall_m: 0.7520\n"
     ]
    }
   ],
   "source": [
    "#Compilando o modelo\n",
    "\n",
    "from keras import backend as K\n",
    "num_epochs = 10\n",
    "\n",
    "def recall_m(y_true, y_pred):\n",
    "    true_positives = K.sum(K.round(K.clip(y_true * y_pred, 0, 1)))\n",
    "    possible_positives = K.sum(K.round(K.clip(y_true, 0, 1)))\n",
    "    recall = true_positives / (possible_positives + K.epsilon())\n",
    "    return recall\n",
    "\n",
    "def precision_m(y_true, y_pred):\n",
    "    true_positives = K.sum(K.round(K.clip(y_true * y_pred, 0, 1)))\n",
    "    predicted_positives = K.sum(K.round(K.clip(y_pred, 0, 1)))\n",
    "    precision = true_positives / (predicted_positives + K.epsilon())\n",
    "    return precision\n",
    "\n",
    "def f1_m(y_true, y_pred):\n",
    "    precision = precision_m(y_true, y_pred)\n",
    "    recall = recall_m(y_true, y_pred)\n",
    "    return 2*((precision*recall)/(precision+recall+K.epsilon()))\n",
    "\n",
    "# compile the model\n",
    "#model.compile(optimizer='adam', loss='binary_crossentropy', metrics=['acc',f1_m,precision_m, recall_m])\n",
    "model.compile(optimizer='adam', loss='mse', metrics=['acc',f1_m,precision_m, recall_m])\n",
    "# fit the model\n",
    "history = model.fit(train_x, train_y,\n",
    "              batch_size=500, epochs=num_epochs,\n",
    "              verbose=2,\n",
    "              validation_data=(val_x, val_y))\n",
    "\n",
    "# evaluate the model\n",
    "#loss, accuracy, f1_score, precision, recall = model.evaluate(test_x, test_y, verbose=0)"
   ]
  },
  {
   "cell_type": "code",
   "execution_count": 113,
   "metadata": {},
   "outputs": [
    {
     "data": {
      "image/png": "[encoded data removed]",
      "text/plain": [
       "<Figure size 432x288 with 1 Axes>"
      ]
     },
     "metadata": {
      "needs_background": "light"
     },
     "output_type": "display_data"
    },
    {
     "data": {
      "image/png": "[encoded data removed]",
      "text/plain": [
       "<Figure size 432x288 with 1 Axes>"
      ]
     },
     "metadata": {
      "needs_background": "light"
     },
     "output_type": "display_data"
    },
    {
     "data": {
      "image/png": "[encoded data removed]",
      "text/plain": [
       "<Figure size 432x288 with 1 Axes>"
      ]
     },
     "metadata": {
      "needs_background": "light"
     },
     "output_type": "display_data"
    },
    {
     "data": {
      "image/png": "[encoded data removed]",
      "text/plain": [
       "<Figure size 432x288 with 1 Axes>"
      ]
     },
     "metadata": {
      "needs_background": "light"
     },
     "output_type": "display_data"
    },
    {
     "data": {
      "image/png": "[encoded data removed]",
      "text/plain": [
       "<Figure size 432x288 with 1 Axes>"
      ]
     },
     "metadata": {
      "needs_background": "light"
     },
     "output_type": "display_data"
    }
   ],
   "source": [
    "#Plotando os gráficos\n",
    "\n",
    "import matplotlib.pyplot as plt\n",
    "\n",
    "\n",
    "def plot_graphs(history, string):\n",
    "    plt.plot(history.history[string])\n",
    "    plt.plot(history.history['val_'+string])\n",
    "    plt.xlabel(\"Epochs\")\n",
    "    plt.ylabel(string)\n",
    "    plt.legend([string, 'val_'+string])\n",
    "    plt.show()\n",
    "    \n",
    "#plot_graphs(history, \"accuracy\")\n",
    "plot_graphs(history, \"acc\")\n",
    "plot_graphs(history, \"loss\")\n",
    "plot_graphs(history, \"precision_m\")\n",
    "plot_graphs(history, \"recall_m\")\n",
    "plot_graphs(history, \"f1_m\")"
   ]
  },
  {
   "cell_type": "markdown",
   "metadata": {},
   "source": [
    "## Escolha dos hiperparâmetros - Outro modo de criar uma Rede Neural\n",
    "\n",
    "Primeiro, definindo os hiperparâmetros.\n",
    "\n",
    "lstm_size: Número de unidades nas camadas ocultas nas células LSTM. Normalmente, quanto maior é o melhor desempenho. Os valores comuns são 128, 256, 512, etc.\n",
    "\n",
    "lstm_layers: Número de camadas LSTM na rede. Será definido como 1 a princípio.\n",
    "\n",
    "batch_size: o número de revisões para alimentar a rede em uma passagem de treinamento. Normalmente, isso deve ser definido o mais alto possível sem ficar sem memória.\n",
    "\n",
    "learning_rate: taxa de aprendizagem"
   ]
  },
  {
   "cell_type": "code",
   "execution_count": null,
   "metadata": {},
   "outputs": [],
   "source": [
    "lstm_size = 256\n",
    "#lstm_layers = 1\n",
    "batch_size = 500\n",
    "learning_rate = 0.001"
   ]
  },
  {
   "cell_type": "markdown",
   "metadata": {},
   "source": [
    "Para a própria rede, passaremos nossos vetores de revisão de 173 elementos. Cada lote será de vetores batch_size. Também será usado dropout na camada LSTM, então haverá um placeholder para a probabilidade de keep.\n",
    "\n",
    "\n",
    "Criando os tensores `inputs_`,` labels_` e `keep_prob` usando` tf.placeholder`. `labels_` precisa ser bidimensional para funcionar com algumas funções posteriormente. Como `keep_prob` é um escalar (um tensor 0-dimensional), não deve-se fornecer um tamanho para` tf.placeholder`."
   ]
  },
  {
   "cell_type": "code",
   "execution_count": null,
   "metadata": {},
   "outputs": [],
   "source": [
    "import tensorflow.compat.v1 as tf\n",
    "tf.disable_v2_behavior() #para conseguir usar tf.placeholder\n",
    "n_words = len(vocab)\n",
    "\n",
    "# Create the graph object\n",
    "graph = tf.Graph()\n",
    "# Add nodes to the graph\n",
    "with graph.as_default():\n",
    "    inputs_ = tf.placeholder(tf.int32, [None, None], name='inputs')\n",
    "    labels_ = tf.placeholder(tf.int32, [None, None], name='labels')\n",
    "    keep_prob = tf.placeholder(tf.float32, name='keep_prob')"
   ]
  },
  {
   "cell_type": "markdown",
   "metadata": {},
   "source": [
    "### Embedding\n",
    "Agora vamos adicionar uma camada de incorporação. Precisamos fazer isso porque existem milhares de palavras em nosso vocabulário. É extremamente ineficiente codificar de uma vez as classes aqui. Em vez de codificação one-hot, pode-se ter uma camada de incorporação e usar essa camada como uma tabela de pesquisa. Pode-se treinar uma camada de incorporação usando word2vec .\n",
    "\n",
    "Obs: não há problema em apenas criar uma nova camada e deixar a rede aprender os pesos."
   ]
  },
  {
   "cell_type": "code",
   "execution_count": null,
   "metadata": {},
   "outputs": [],
   "source": [
    "# Size of the embedding vectors (number of units in the embedding layer)\n",
    "#embed_size = 300 \n",
    "embed_size = 300 \n",
    "\n",
    "with graph.as_default():\n",
    "    embedding = tf.Variable(tf.random_uniform((n_words, embed_size), -1, 1)) #n_words - quantidade de palavras sem repetição\n",
    "    embed = tf.nn.embedding_lookup(embedding, inputs_) #tabela de pesquisa para as variáveis de entrada"
   ]
  },
  {
   "cell_type": "code",
   "execution_count": null,
   "metadata": {},
   "outputs": [],
   "source": [
    "import warnings\n",
    "warnings.simplefilter(action='ignore', category=FutureWarning)\n",
    "from tensorflow import keras\n",
    "from tensorflow.keras import layers\n",
    "from tensorflow.keras import callbacks\n",
    "\n",
    "with graph.as_default():\n",
    "    # Your basic LSTM cell\n",
    "    #lstm = tf.nn.rnn_cell.BasicLSTMCell(lstm_size)\n",
    "    lstm = [tf.nn.rnn_cell.BasicLSTMCell(lstm_size) for size in [256,256]]\n",
    "    \n",
    "    \n",
    "    # Add dropout to the cell\n",
    "    #drop = tf.nn.rnn_cell.DropoutWrapper(lstm, output_keep_prob=keep_prob) - retirado para teste\n",
    "    \n",
    "    # Stack up multiple LSTM layers, for deep learning\n",
    "    \n",
    "    multi_rnn_cell = tf.nn.rnn_cell.MultiRNNCell(lstm)\n",
    "    \n",
    "    # Getting an initial state of all zeros\n",
    "    #initial_state = cell.zero_state(batch_size, tf.float32) - retirado para teste\n",
    "    initial_state = multi_rnn_cell.zero_state(batch_size, tf.float32)\n",
    "    "
   ]
  },
  {
   "cell_type": "markdown",
   "metadata": {},
   "source": [
    "### RNN forward pass\n",
    "\n",
    "Agora, executa-se os dados por meio dos nós RNN. Pode-se usar tf.nn.dynamic_rnn para fazer isso. Passa-se a célula RNN que foi criada(célula LSTM de várias camadas, por exemplo) e as entradas para a rede.\n",
    "\n",
    "\n",
    "```\n",
    "outputs, final_state = tf.nn.dynamic_rnn(cell, inputs, initial_state=initial_state)\n",
    "```\n",
    "Acima criei um estado inicial, initial_state, para passar para o RNN. Este é o estado da célula que é passado entre as camadas ocultas em intervalos de tempo sucessivos. tf.nn.dynamic_rnn cuida da maior parte do trabalho. Ele retorna saídas para cada etapa de tempo e o estado final da camada oculta."
   ]
  },
  {
   "cell_type": "code",
   "execution_count": null,
   "metadata": {},
   "outputs": [],
   "source": [
    "with graph.as_default():\n",
    "    #outputs, final_state = tf.nn.dynamic_rnn(cell, embed,\n",
    "     #                                        initial_state=initial_state)\n",
    "    \n",
    "    outputs, final_state = tf.nn.dynamic_rnn(cell=multi_rnn_cell,\n",
    "                                   inputs=embed,\n",
    "                                   initial_state = initial_state)"
   ]
  },
  {
   "cell_type": "markdown",
   "metadata": {},
   "source": [
    "### Output\n",
    "\n",
    "O importante é o resultado final, pois usaremos ele na previsão de sentimento. Portanto, pega-se a última saída com outputs[:, -1], e calcula-se o custo a partir disso. Além de `labels_`."
   ]
  },
  {
   "cell_type": "code",
   "execution_count": null,
   "metadata": {},
   "outputs": [],
   "source": [
    "with graph.as_default():\n",
    "    predictions = tf.keras.activations.sigmoid(outputs[:, -1])\n",
    "    #predictions = tf.contrib._layers.fully_connected(outputs[:, -1], 1, activation_fn=tf.sigmoid)\n",
    "    \n",
    "    cost = tf.losses.mean_squared_error(labels_, predictions)\n",
    "    \n",
    "    optimizer = tf.train.AdamOptimizer(learning_rate).minimize(cost)"
   ]
  },
  {
   "cell_type": "markdown",
   "metadata": {},
   "source": [
    "### Validation accuracy\n",
    "\n",
    "Pode-se adicionar alguns nós para calcular a acurácia que será usado na camada de acurácia"
   ]
  },
  {
   "cell_type": "code",
   "execution_count": null,
   "metadata": {},
   "outputs": [],
   "source": [
    "with graph.as_default():\n",
    "    correct_pred = tf.equal(tf.cast(tf.round(predictions), tf.int32), labels_)\n",
    "    accuracy = tf.reduce_mean(tf.cast(correct_pred, tf.float32))"
   ]
  },
  {
   "cell_type": "markdown",
   "metadata": {},
   "source": [
    "### Batching\n",
    "\n",
    "Esta é uma função simples para retornar lotes dos dados. Primeiro, ela remove os dados de forma que só tenh-se lotes completos. Em seguida, itera através dos arrays `x` e` y` e retorna fatias desses arrays com tamanho\n",
    " `[batch_size]`."
   ]
  },
  {
   "cell_type": "code",
   "execution_count": null,
   "metadata": {},
   "outputs": [],
   "source": [
    "def get_batches(x, y, batch_size=100):#funçaõ get_batches recebe como parâmetro lote de treinamento x e y\n",
    "    n_batches = len(x)//batch_size #n_batches = 200\n",
    "    x, y = x[:n_batches*batch_size], y[:n_batches*batch_size] # x recebe lista train_x[:200*100] e y train_y[:200*100]\n",
    "    for ii in range(0, len(x), batch_size):#for ii in range(0,20000,100) --range(start,stop,step) -- ii= 0,100,200...19900\n",
    "        yield x[ii:ii+batch_size], y[ii:ii+batch_size] #retorna x[0:0 + 100],y[0:0 + 100]"
   ]
  },
  {
   "cell_type": "markdown",
   "metadata": {},
   "source": [
    "## Training\n",
    "\n",
    "Abaixo está o código de treinamento.\n",
    "\n",
    "obs: certificar de que o diretório `checkpoints` existe."
   ]
  },
  {
   "cell_type": "code",
   "execution_count": null,
   "metadata": {},
   "outputs": [],
   "source": [
    "epochs = 6\n",
    "loss_test=[]\n",
    "final_test=[]\n",
    "\n",
    "with graph.as_default():\n",
    "    saver = tf.train.Saver() \n",
    "\n",
    "with tf.Session(graph=graph) as sess:\n",
    "    sess.run(tf.global_variables_initializer())\n",
    "    iteration = 1\n",
    "    for e in range(epochs):\n",
    "        state = sess.run(initial_state)\n",
    "        \n",
    "        for ii, (x, y) in enumerate(get_batches(train_x, train_y, batch_size), 1):\n",
    "            feed = {inputs_: x,\n",
    "                    labels_: y[:, None],\n",
    "                    keep_prob: 0.5,\n",
    "                    initial_state: state}\n",
    "            loss, state, _ = sess.run([cost, final_state, optimizer], feed_dict=feed) #atualiza os pesos e retorna o custo\n",
    "            \n",
    "            loss_test.append(loss)\n",
    "            final_test.append(state)\n",
    "            \n",
    "            if iteration%5==0:\n",
    "                print(\"Epoch: {}/{}\".format(e, epochs),\n",
    "                      \"Iteration: {}\".format(iteration),\n",
    "                      \"Train loss: {:.3f}\".format(loss))\n",
    "\n",
    "            if iteration%40==0:\n",
    "                val_acc = []\n",
    "                #val_state = sess.run(cell.zero_state(batch_size, tf.float32))\n",
    "                val_state = sess.run(multi_rnn_cell.zero_state(batch_size, tf.float32))\n",
    "                for x, y in get_batches(val_x, val_y, batch_size):\n",
    "                    feed = {inputs_: x,\n",
    "                            labels_: y[:, None],\n",
    "                            keep_prob: 1,\n",
    "                            initial_state: val_state}\n",
    "                    batch_acc, val_state = sess.run([accuracy, final_state], feed_dict=feed)\n",
    "                    val_acc.append(batch_acc)\n",
    "                    \n",
    "                    #----------------\n",
    "                    #----------------\n",
    "                        \n",
    "                print(\"Val acc: {:.3f}\".format(np.mean(val_acc)))\n",
    "            iteration +=1  \n",
    "    saver.save(sess, \"checkpoints/sentiment.ckpt\")"
   ]
  },
  {
   "cell_type": "code",
   "execution_count": null,
   "metadata": {},
   "outputs": [],
   "source": [
    "#Compilando o modelo\n",
    "\n",
    "from keras import backend as K\n",
    "num_epochs = 10\n",
    "\n",
    "def recall_m(y_true, y_pred):\n",
    "    true_positives = K.sum(K.round(K.clip(y_true * y_pred, 0, 1)))\n",
    "    possible_positives = K.sum(K.round(K.clip(y_true, 0, 1)))\n",
    "    recall = true_positives / (possible_positives + K.epsilon())\n",
    "    return recall\n",
    "\n",
    "def precision_m(y_true, y_pred):\n",
    "    true_positives = K.sum(K.round(K.clip(y_true * y_pred, 0, 1)))\n",
    "    predicted_positives = K.sum(K.round(K.clip(y_pred, 0, 1)))\n",
    "    precision = true_positives / (predicted_positives + K.epsilon())\n",
    "    return precision\n",
    "\n",
    "def f1_m(y_true, y_pred):\n",
    "    precision = precision_m(y_true, y_pred)\n",
    "    recall = recall_m(y_true, y_pred)\n",
    "    return 2*((precision*recall)/(precision+recall+K.epsilon()))\n",
    "\n",
    "# compile the model\n",
    "model.compile(optimizer='adam', loss='binary_crossentropy', metrics=['acc',f1_m,precision_m, recall_m])\n",
    "\n",
    "# fit the model\n",
    "history = model.fit(train_x, train_y,\n",
    "              batch_size=500, epochs=num_epochs,\n",
    "              verbose=2,\n",
    "              validation_data=(val_x, val_y))\n",
    "\n",
    "# evaluate the model\n",
    "#loss, accuracy, f1_score, precision, recall = model.evaluate(test_x, test_y, verbose=0)"
   ]
  },
  {
   "cell_type": "code",
   "execution_count": 38,
   "metadata": {},
   "outputs": [
    {
     "name": "stdout",
     "output_type": "stream",
     "text": [
      "(73919, 64)\n"
     ]
    },
    {
     "ename": "AttributeError",
     "evalue": "'str' object has no attribute 'vocab_size'",
     "output_type": "error",
     "traceback": [
      "\u001b[1;31m---------------------------------------------------------------------------\u001b[0m",
      "\u001b[1;31mAttributeError\u001b[0m                            Traceback (most recent call last)",
      "\u001b[1;32m<ipython-input-38-b8ae167cdb30>\u001b[0m in \u001b[0;36m<module>\u001b[1;34m\u001b[0m\n\u001b[0;32m      7\u001b[0m \u001b[0mout_v\u001b[0m \u001b[1;33m=\u001b[0m \u001b[0mio\u001b[0m\u001b[1;33m.\u001b[0m\u001b[0mopen\u001b[0m\u001b[1;33m(\u001b[0m\u001b[1;34m'vecs.tsv'\u001b[0m\u001b[1;33m,\u001b[0m \u001b[1;34m'w'\u001b[0m\u001b[1;33m,\u001b[0m \u001b[0mencoding\u001b[0m\u001b[1;33m=\u001b[0m\u001b[1;34m'utf-8'\u001b[0m\u001b[1;33m)\u001b[0m\u001b[1;33m\u001b[0m\u001b[1;33m\u001b[0m\u001b[0m\n\u001b[0;32m      8\u001b[0m \u001b[0mout_m\u001b[0m \u001b[1;33m=\u001b[0m \u001b[0mio\u001b[0m\u001b[1;33m.\u001b[0m\u001b[0mopen\u001b[0m\u001b[1;33m(\u001b[0m\u001b[1;34m'meta.tsv'\u001b[0m\u001b[1;33m,\u001b[0m \u001b[1;34m'w'\u001b[0m\u001b[1;33m,\u001b[0m \u001b[0mencoding\u001b[0m\u001b[1;33m=\u001b[0m\u001b[1;34m'utf-8'\u001b[0m\u001b[1;33m)\u001b[0m\u001b[1;33m\u001b[0m\u001b[1;33m\u001b[0m\u001b[0m\n\u001b[1;32m----> 9\u001b[1;33m \u001b[1;32mfor\u001b[0m \u001b[0mword_num\u001b[0m \u001b[1;32min\u001b[0m \u001b[0mrange\u001b[0m\u001b[1;33m(\u001b[0m\u001b[1;36m1\u001b[0m\u001b[1;33m,\u001b[0m \u001b[0mword_clean\u001b[0m\u001b[1;33m.\u001b[0m\u001b[0mvocab_size\u001b[0m\u001b[1;33m)\u001b[0m\u001b[1;33m:\u001b[0m\u001b[1;33m\u001b[0m\u001b[1;33m\u001b[0m\u001b[0m\n\u001b[0m\u001b[0;32m     10\u001b[0m     \u001b[0mword\u001b[0m \u001b[1;33m=\u001b[0m \u001b[0mtokenizer\u001b[0m\u001b[1;33m.\u001b[0m\u001b[0mdecode\u001b[0m\u001b[1;33m(\u001b[0m\u001b[1;33m[\u001b[0m\u001b[0mword_num\u001b[0m\u001b[1;33m]\u001b[0m\u001b[1;33m)\u001b[0m\u001b[1;33m\u001b[0m\u001b[1;33m\u001b[0m\u001b[0m\n\u001b[0;32m     11\u001b[0m     \u001b[0membeddings\u001b[0m \u001b[1;33m=\u001b[0m \u001b[0mweights\u001b[0m\u001b[1;33m[\u001b[0m\u001b[0mword_num\u001b[0m\u001b[1;33m]\u001b[0m\u001b[1;33m\u001b[0m\u001b[1;33m\u001b[0m\u001b[0m\n",
      "\u001b[1;31mAttributeError\u001b[0m: 'str' object has no attribute 'vocab_size'"
     ]
    }
   ],
   "source": [
    "e = model.layers[0]\n",
    "weights = e.get_weights()[0]\n",
    "print(weights.shape) # shape: (vocab_size, embedding_dim)\n",
    "\n",
    "import io\n",
    "\n",
    "out_v = io.open('vecs.tsv', 'w', encoding='utf-8')\n",
    "out_m = io.open('meta.tsv', 'w', encoding='utf-8')\n",
    "for word_num in range(1, word_clean.vocab_size):\n",
    "    word = tokenizer.decode([word_num])\n",
    "    embeddings = weights[word_num]\n",
    "    out_m.write(word + \"\\n\")\n",
    "    out_v.write('\\t'.join([str(x) for x in embeddings]) + \"\\n\")\n",
    "out_v.close()\n",
    "out_m.close()\n",
    "\n",
    "try:\n",
    "    from google.colab import files\n",
    "except ImportError:\n",
    "    pass\n",
    "else:\n",
    "    files.download('vecs.tsv')\n",
    "    files.download('meta.tsv')"
   ]
  },
  {
   "cell_type": "code",
   "execution_count": null,
   "metadata": {
    "id": "vWWptaGDXxQM",
    "outputId": "04ed963f-08e5-4f3a-f67f-5618baba75b0"
   },
   "outputs": [],
   "source": [
    "test_acc = []\n",
    "with tf.Session(graph=graph) as sess:\n",
    "    saver.restore(sess, tf.train.latest_checkpoint('/checkpoints/sentiment.ckpt'))\n",
    "    saver.restore(sess, tf.train.latest_checkpoint('/output/checkpoints'))\n",
    "    test_state = sess.run(cell.zero_state(batch_size, tf.float32))\n",
    "    for ii, (x, y) in enumerate(get_batches(test_x, test_y, batch_size), 1):\n",
    "        feed = {inputs_: x,\n",
    "                labels_: y[:, None],\n",
    "                keep_prob: 1,\n",
    "                initial_state: test_state}\n",
    "        batch_acc, test_state = sess.run([accuracy, final_state], feed_dict=feed)\n",
    "        test_acc.append(batch_acc)\n",
    "    print(\"Test accuracy: {:.3f}\".format(np.mean(test_acc)))"
   ]
  }
 ],
 "metadata": {
  "colab": {
   "collapsed_sections": [],
   "name": "Sentiment RNN Solution.ipynb",
   "provenance": []
  },
  "kernelspec": {
   "display_name": "Python 3",
   "language": "python",
   "name": "python3"
  },
  "language_info": {
   "codemirror_mode": {
    "name": "ipython",
    "version": 3
   },
   "file_extension": ".py",
   "mimetype": "text/x-python",
   "name": "python",
   "nbconvert_exporter": "python",
   "pygments_lexer": "ipython3",
   "version": "3.8.3"
  }
 },
 "nbformat": 4,
 "nbformat_minor": 1
}
